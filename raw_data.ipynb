{
 "cells": [
  {
   "cell_type": "code",
   "execution_count": 1,
   "metadata": {},
   "outputs": [],
   "source": [
    "import pandas as pd\n",
    "import pickle\n",
    "\n",
    "import os\n",
    "\n",
    "import psycopg2\n",
    "\n",
    "import pyarrow.parquet as pq\n",
    "\n",
    "from tqdm.notebook import tqdm"
   ]
  },
  {
   "cell_type": "code",
   "execution_count": null,
   "metadata": {},
   "outputs": [],
   "source": [
    "# drop table if exists raw_data.transaction_data;\n",
    "# create table raw_data.transaction_data\n",
    "#     (app_id int,\n",
    "#     amnt decimal(5,2),\n",
    "#     currency int,\n",
    "#     operation_kind int,\n",
    "#     card_type int,\n",
    "#     operation_type int,\n",
    "#     operation_type_group int,\n",
    "#     ecommerce_flag int,\n",
    "#     payment_system int,\n",
    "#     income_flag int,\n",
    "#     mcc int,\n",
    "#     country int,\n",
    "#     city int,\n",
    "#     mcc_category int,\n",
    "#     day_of_week int,\n",
    "#     hour int,\n",
    "#     days_before int,\n",
    "#     weekofyear int,\n",
    "#     hour_diff int,\n",
    "#     transaction_number int,\n",
    "#     filename varchar(256),\n",
    "#     loading_dt timestamp default now());\n",
    "   \n",
    "# drop table if exists raw_data.client_data;\n",
    "# create table raw_data.client_data\n",
    "#     (app_id int,\n",
    "#     surname varchar(100),\n",
    "#     name varchar(100),\n",
    "#     fathername varchar(100),\n",
    "#     sex varchar(10),\n",
    "#     age int,\n",
    "#     region varchar(100),\n",
    "#     city varchar(100),\n",
    "#     is_married bit,\n",
    "#     has_children bit,\n",
    "#     education varchar(50),\n",
    "#     loading_dt timestamp default now());\n",
    "\n",
    "# drop table if exists raw_data.dq;\n",
    "# create table raw_data.dq (filename varchar(256), nr_rows int);\n",
    "\n",
    "# drop table if exists raw_data.log;\n",
    "# create table raw_data.log \n",
    "#     (action_type varchar(50),\n",
    "#     action_dt timestamp default now(),\n",
    "#     table_name varchar(256), \n",
    "#     filename varchar(256),\n",
    "#     nr_rows int)"
   ]
  },
  {
   "cell_type": "code",
   "execution_count": null,
   "metadata": {},
   "outputs": [],
   "source": [
    "conn = psycopg2.connect(dbname='kr_bruklin', user='postgres', \n",
    "                        password='admin', host='localhost', port=5432)\n",
    "\n",
    "with conn.cursor() as curs:\n",
    "    curs.execute('''\n",
    "drop table if exists raw_data.transaction_data;\n",
    "create table raw_data.transaction_data\n",
    "    (app_id int,\n",
    "    amnt decimal(5,2),\n",
    "    currency int,\n",
    "    operation_kind int,\n",
    "    card_type int,\n",
    "    operation_type int,\n",
    "    operation_type_group int,\n",
    "    ecommerce_flag int,\n",
    "    payment_system int,\n",
    "    income_flag int,\n",
    "    mcc int,\n",
    "    country int,\n",
    "    city int,\n",
    "    mcc_category int,\n",
    "    day_of_week int,\n",
    "    hour int,\n",
    "    days_before int,\n",
    "    weekofyear int,\n",
    "    hour_diff int,\n",
    "    transaction_number int,\n",
    "    filename varchar(256),\n",
    "    loading_dt timestamp default now());\n",
    "   \n",
    "drop table if exists raw_data.client_data;\n",
    "create table raw_data.client_data\n",
    "    (app_id int,\n",
    "    surname varchar(100),\n",
    "    name varchar(100),\n",
    "    fathername varchar(100),\n",
    "    sex varchar(10),\n",
    "    age int,\n",
    "    region varchar(100),\n",
    "    city varchar(100),\n",
    "    is_married bit,\n",
    "    has_children bit,\n",
    "    education varchar(50),\n",
    "    loading_dt timestamp default now());\n",
    "\n",
    "drop table if exists raw_data.dq;\n",
    "create table raw_data.dq (filename varchar(256), nr_rows int);\n",
    "\n",
    "drop table if exists raw_data.log;\n",
    "create table raw_data.log \n",
    "    (action_type varchar(50),\n",
    "    action_dt timestamp default now(),\n",
    "    table_name varchar(256), \n",
    "    filename varchar(256),\n",
    "    nr_rows int)''')\n",
    "conn.commit()\n",
    "conn.close()"
   ]
  },
  {
   "cell_type": "code",
   "execution_count": 15,
   "metadata": {},
   "outputs": [
    {
     "data": {
      "application/vnd.jupyter.widget-view+json": {
       "model_id": "05c02ac61a7844a8bd1e630f32a515f0",
       "version_major": 2,
       "version_minor": 0
      },
      "text/plain": [
       "HBox(children=(HTML(value=''), FloatProgress(value=0.0, max=5409.0), HTML(value='')))"
      ]
     },
     "metadata": {},
     "output_type": "display_data"
    },
    {
     "name": "stdout",
     "output_type": "stream",
     "text": [
      "\n"
     ]
    }
   ],
   "source": [
    "for x in os.listdir('./raw_data')[1:2]:\n",
    "    df = pq.read_table(os.path.join('./raw_data', x)).to_pandas()\n",
    "    conn = psycopg2.connect(dbname='kr_bruklin', user='postgres', \n",
    "                        password='admin', host='localhost', port=5432)\n",
    "    with conn.cursor() as curs:\n",
    "        curs.execute(f\"insert into raw_data.dq values ('{x}', {df.shape[0]})\")\n",
    "    conn.close()\n",
    "    for i in tqdm(range(1, df.shape[0] // 1000 +2)):\n",
    "#         print(f'Iteration {i} of {df.shape[0] // 1000 +1}')\n",
    "        tmp = df.iloc[(i-1)*1000:i*1000].copy()\n",
    "        tmp['filename'] = f\"'{x}'\"\n",
    "        tmp['result'] = tmp.apply(lambda x: '('+','.join([str(x[c]) for c in tmp.columns])+',DEFAULT)', axis=1)\n",
    "        values = ','.join(tmp.result.to_list())\n",
    "        conn = psycopg2.connect(dbname='kr_bruklin', user='postgres', \n",
    "                        password='admin', host='localhost', port=5432)\n",
    "        with conn.cursor() as curs:\n",
    "            curs.execute(f'''insert into raw_data.transaction_data values\n",
    "                            {values}''')\n",
    "            curs.execute(f\" insert into raw_data.log values ('insert', DEFAULT, 'raw_data.transaction_data', '{x}', {tmp.shape[0]})\")\n",
    "        conn.commit()  \n",
    "        conn.close()"
   ]
  }
 ],
 "metadata": {
  "kernelspec": {
   "display_name": "Python 3",
   "language": "python",
   "name": "python3"
  },
  "language_info": {
   "codemirror_mode": {
    "name": "ipython",
    "version": 3
   },
   "file_extension": ".py",
   "mimetype": "text/x-python",
   "name": "python",
   "nbconvert_exporter": "python",
   "pygments_lexer": "ipython3",
   "version": "3.8.5"
  }
 },
 "nbformat": 4,
 "nbformat_minor": 4
}

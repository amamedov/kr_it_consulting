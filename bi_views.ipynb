{
 "cells": [
  {
   "cell_type": "code",
   "execution_count": 1,
   "metadata": {},
   "outputs": [],
   "source": [
    "import psycopg2"
   ]
  },
  {
   "cell_type": "code",
   "execution_count": 2,
   "metadata": {},
   "outputs": [],
   "source": [
    "conn = psycopg2.connect(dbname='kr_bruklin', user='postgres', \n",
    "                        password='admin', host='localhost', port=5432)\n",
    "\n",
    "with conn.cursor() as curs:\n",
    "    curs.execute('''\n",
    "drop view if exists vw_bi.baseline;\n",
    "create view vw_bi.baseline as (\n",
    "select\n",
    "tt.app_id as app_id\n",
    ", amnt as trans_amount \n",
    ", currency as trans_currency\n",
    ", operation_kind as trans_operation_kind\n",
    ", card_type as trans_card_type\n",
    ", operation_type as trans_opertaion_type\n",
    ", operation_type_group as trans_operation_type_group\n",
    ", ecommerce_flag as trans_ecommerce_flag\n",
    ", payment_system as trans_payment_system\n",
    ", income_flag as trans_income_flag\n",
    ", mcc as trans_mcc\n",
    ", country as trans_country\n",
    ", tt.city as trans_city\n",
    ", mcc_category as trans_mcc_category\n",
    ", day_of_week as trans_day_of_week\n",
    ", hour as trans_hour\n",
    ", days_before as trans_days_before\n",
    ", weekofyear as trans_weekofyear\n",
    ", hour_diff as trans_hour_diff\n",
    ", transaction_number as trans_transaction_number\n",
    ", cd.surname as client_surname\n",
    ", cd.name as client_name\n",
    ", cd.fathername as client_fathername\n",
    ", cd.sex as client_sex\n",
    ", cd.age as client_age\n",
    ", cd.region as client_region\n",
    ", cd.city as client_city\n",
    ", cd.is_married as client_is_married\n",
    ", cd.has_children as client_has_children\n",
    ", cd.education as client_education\n",
    "from raw_data.client_data cd \n",
    "join raw_data.transaction_data tt \n",
    "on cd.app_id = tt.app_id\n",
    ")''')\n",
    "conn.commit()\n",
    "conn.close()"
   ]
  }
 ],
 "metadata": {
  "kernelspec": {
   "display_name": "Python 3",
   "language": "python",
   "name": "python3"
  },
  "language_info": {
   "codemirror_mode": {
    "name": "ipython",
    "version": 3
   },
   "file_extension": ".py",
   "mimetype": "text/x-python",
   "name": "python",
   "nbconvert_exporter": "python",
   "pygments_lexer": "ipython3",
   "version": "3.8.5"
  }
 },
 "nbformat": 4,
 "nbformat_minor": 4
}

{
 "cells": [
  {
   "cell_type": "code",
   "execution_count": 1,
   "metadata": {},
   "outputs": [],
   "source": [
    "import random"
   ]
  },
  {
   "cell_type": "code",
   "execution_count": 2,
   "metadata": {},
   "outputs": [],
   "source": [
    "import numpy as np"
   ]
  },
  {
   "cell_type": "code",
   "execution_count": 3,
   "metadata": {},
   "outputs": [],
   "source": [
    "import pandas as pd"
   ]
  },
  {
   "cell_type": "code",
   "execution_count": 4,
   "metadata": {},
   "outputs": [],
   "source": [
    "import psycopg2"
   ]
  },
  {
   "cell_type": "code",
   "execution_count": 5,
   "metadata": {},
   "outputs": [],
   "source": [
    "from tqdm.notebook import tqdm"
   ]
  },
  {
   "cell_type": "markdown",
   "metadata": {},
   "source": [
    "# Data preparation"
   ]
  },
  {
   "cell_type": "code",
   "execution_count": 6,
   "metadata": {},
   "outputs": [],
   "source": [
    "tmp = '''Адыгея\t\tМайкоп\t7 792\t449 171\n",
    "Алтай\t\tГорно-Алтайск\t92 903\t213 703\n",
    "Алтайский\tкрай\tБарнаул\t167 996\t2 384 812\n",
    "Амурская\tобласть\tБлаговещенск\t361 913\t809 873\n",
    "Архангельская\tобласть\tАрхангельск\t589 913\t1 183 323\n",
    "Астраханская\tобласть\tАстрахань\t49 024\t1 021 287\n",
    "Башкортостан\tреспублика\tУфа\t142 947\t4 071 987\n",
    "Белгородская\tобласть\tБелгород\t27 134\t1 547 936\n",
    "Брянская\tобласть\tБрянск\t34 857\t1 232 940\n",
    "Бурятия\t\tУлан-Удэ\t351 334\t978 495\n",
    "Владимирская\tобласть\tВладимир\t29 084\t1 405 613\n",
    "Волгоградская\tобласть\tВолгоград\t112 877\t2 557 397\n",
    "Вологодская\tобласть\tВологда\t144 527\t1 191 010\n",
    "Воронежская\tобласть\tВоронеж\t52 216\t2 331 147\n",
    "Дагестан\t\tМахачкала\t50 270\t2 990 371\n",
    "Еврейская\tавтономная область\tБиробиджан\t36 266\t168 368\n",
    "Забайкальский\tкрай\tЧита\t431 892\t1 087 452\n",
    "Ивановская\tобласть\tИваново\t21 437\t1 036 909\n",
    "Ингушетия\t\tМагас\t3 628\t463 893\n",
    "Иркутская\tобласть\tИркутск\t774 846\t2 414 913\n",
    "Кабардино-Балкарская\tреспублика\tНальчик\t12 470\t860 709\n",
    "Калининградская\tобласть\tКалининград\t15 125\t968 944\n",
    "Республика Калмыкия\t\tЭлиста\t74 731\t280 564\n",
    "Калужская\tобласть\tКалуга\t29 777\t1 010 486\n",
    "Камчатский\tкрай\tПетропавловск-Камчатский\t464 275\t317 269\n",
    "Карачаево-Черкесская республика\t\tЧеркесск\t14 277\t469 060\n",
    "Республика\tКарелия\tПетрозаводск\t180 520\t632 533\n",
    "Кемеровская\tобласть\tКемерово\t95 725\t2 724 990\n",
    "Кировская\tобласть\tКиров\t120 374\t1 304 348\n",
    "Республика Коми\t\tСыктывкар\t416 774\t864 424\n",
    "Костромская\tобласть\tКострома\t60 211\t654 390\n",
    "Краснодарский\tкрай\tКраснодар\t75 485\t5 453 329\n",
    "Красноярский\tкрай\tКрасноярск\t2 366 797\t2 858 773\n",
    "Крым\tреспублика\tСимферополь\t26 081\t1 895 915\n",
    "Курганская\tобласть\tКурган\t71 488\t869 814\n",
    "Курская\tобласть\tКурск\t29 997\t1 117 378\n",
    "Ленинградская\tобласть\tСанкт-Петербург\t83 908\t1 775 540\n",
    "Липецкая\tобласть\tЛипецк\t24 047\t1 157 865\n",
    "Магаданская\tобласть\tМагадан\t462 464\t148 071\n",
    "Марий Эл\t\tЙошкар-Ола\t23 375\t687 435\n",
    "Республика Мордовия\t\tСаранск\t26 128\t808 888\n",
    "Москва\t\tМосква\t2 511\t12 197 596\n",
    "Московская\tобласть\tМосква\t44 379\t7 231 068\n",
    "Мурманская\tобласть\tМурманск\t144 902\t766 281\n",
    "Ненецкий\tавтономный округ\tНарьян-Мар\t176 810\t43 373\n",
    "Нижегородская\tобласть\tНижний Новгород\t76 624\t3 270 203\n",
    "Новгородская\tобласть\tВеликий Новгород\t54 501\t618 703\n",
    "Новосибирская\tобласть\tНовосибирск\t177 756\t2 746 822\n",
    "Омская\tобласть\tОмск\t141 140\t1 978 183\n",
    "Оренбургская\tобласть\tОренбург\t123 702\t2 001 110\n",
    "Орловская\tобласть\tОрёл\t24 652\t765 231\n",
    "Пензенская\tобласть\tПенза\t43 352\t1 355 618\n",
    "Пермский\tкрай\tПермь\t160 236\t2 637 032\n",
    "Приморский\tкрай\tВладивосток\t164 673\t1 933 308\n",
    "Псковская\tобласть\tПсков\t55 399\t651 108\n",
    "Ростовская\tобласть\tРостов-на-Дону\t100 967\t4 242 080\n",
    "Рязанская\tобласть\tРязань\t39 605\t1 135 438\n",
    "Самарская\tобласть\tСамара\t53 565\t3 212 676\n",
    "Санкт-Петербург\t\tСанкт-Петербург\t1 439\t5 191 690\n",
    "Саратовская\tобласть\tСаратов\t101 240\t2 493 024\n",
    "Республика Саха (Якутия)\t\tЯкутск\t3 083 523\t956 896\n",
    "Сахалинская\tобласть\tЮжно-Сахалинск\t87 101\t488 391\n",
    "Свердловская\tобласть\tЕкатеринбург\t194 307\t4 327 472\n",
    "Севастополь\tгород федерального значения\tСевастополь\t1 080\t398 973\n",
    "Северная Осетия - Алания\t\tВладикавказ\t7 987\t705 270\n",
    "Смоленская\tобласть\tСмоленск\t49 779\t964 791\n",
    "Ставропольский\tкрай\tСтаврополь\t66 160\t2 799 473\n",
    "Тамбовская\tобласть\tТамбов\t34 462\t1 062 421\n",
    "Татарстан\t\tКазань\t67 847\t3 855 037\n",
    "Тверская\tобласть\tТверь\t84 201\t1 315 071\n",
    "Томская\tобласть\tТомск\t314 391\t1 074 453\n",
    "Тульская\tобласть\tТула\t25 679\t1 513 570\n",
    "Тыва\t\tКызыл\t168 604\t313 777\n",
    "Тюменская\tобласть\tТюмень\t1 464 173\t3 581 293\n",
    "Удмуртская\tреспублика\tИжевск\t42 061\t1 517 472\n",
    "Ульяновская\tобласть\tУльяновск\t37 181\t1 262 549\n",
    "Хабаровский\tкрай\tХабаровск\t787 633\t1 338 305\n",
    "Республика\tХакасия\tАбакан\t61 569\t535 796\n",
    "Ханты-Мансийский автономный округ - Югра\t\tХанты-Мансийск\t534 801\t1 612 076\n",
    "Челябинская\tобласть\tЧелябинск\t88 529\t3 497 274\n",
    "Чеченская\tреспублика\tГрозный\t15 647\t1 370 268\n",
    "Чувашия\t\tЧебоксары\t18 343\t1 238 071\n",
    "Чукотский\tавтономный округ\tАнадырь\t721 481\t50 540\n",
    "Ямало-Ненецкий\tавтономный округ\tСалехард\t769 250\t539 985\n",
    "Ярославская\tобласть\tЯрославль\t36 177\t1 271 629'''.split('\\n')"
   ]
  },
  {
   "cell_type": "code",
   "execution_count": 7,
   "metadata": {},
   "outputs": [],
   "source": [
    "region_list = [((x.split('\\t')[0].strip()+' '+x.split('\\t')[1].strip()).strip(), x.split('\\t')[2].strip()) for x in tmp]"
   ]
  },
  {
   "cell_type": "code",
   "execution_count": 8,
   "metadata": {},
   "outputs": [],
   "source": [
    "male_name_list = ['Алексей',\n",
    " 'Антон',\n",
    " 'Андрей',\n",
    " 'Артем',\n",
    " 'Артемий',\n",
    " 'Борис',\n",
    " 'Генадий',\n",
    " 'Георгий',\n",
    " 'Денис',\n",
    " 'Евгений',\n",
    " 'Илья',\n",
    " 'Константин',\n",
    " 'Николай',\n",
    " 'Вячеслав',\n",
    " 'Святослав',\n",
    " 'Ярослав',\n",
    " 'Виталий',\n",
    " 'Аркадий']"
   ]
  },
  {
   "cell_type": "code",
   "execution_count": 9,
   "metadata": {},
   "outputs": [],
   "source": [
    "surname_list = list(set(['Иванов', 'Петров','Сидоров', 'Липатников', 'Карабанов','Косталындин','Масленников','Мамедов',\n",
    "               'Безусов','Ледов','Ежов','Ягодкин','Морозов',\n",
    " 'Волков',\n",
    " 'Алексеев',\n",
    " 'Лебедев',\n",
    " 'Семёнов',\n",
    " 'Егоров',\n",
    " 'Павлов',\n",
    " 'Козлов',\n",
    " 'Степанов',\n",
    " 'Николаев']+['Смирнов',\n",
    " 'Иванов',\n",
    " 'Кузнецов',\n",
    " 'Соколов',\n",
    " 'Попов',\n",
    " 'Лебедев',\n",
    " 'Козлов',\n",
    " 'Новиков',\n",
    " 'Морозов',\n",
    " 'Петров',\n",
    " 'Волков',\n",
    " 'Соловьёв',\n",
    " 'Васильев',\n",
    " 'Зайцев',\n",
    " 'Павлов',\n",
    " 'Семёнов',\n",
    " 'Голубев',\n",
    " 'Виноградов',\n",
    " 'Богданов',\n",
    " 'Воробьёв',\n",
    " 'Фёдоров',\n",
    " 'Михайлов',\n",
    " 'Беляев',\n",
    " 'Тарасов',\n",
    " 'Белов',\n",
    " 'Комаров',\n",
    " 'Орлов',\n",
    " 'Киселёв',\n",
    " 'Макаров',\n",
    " 'Андреев',\n",
    " 'Ковалёв',\n",
    " 'Ильин',\n",
    " 'Гусев',\n",
    " 'Титов',\n",
    " 'Кузьмин',\n",
    " 'Кудрявцев',\n",
    " 'Баранов',\n",
    " 'Куликов',\n",
    " 'Алексеев',\n",
    " 'Степанов',\n",
    " 'Яковлев',\n",
    " 'Сорокин',\n",
    " 'Сергеев',\n",
    " 'Романов',\n",
    " 'Захаров',\n",
    " 'Борисов',\n",
    " 'Королёв',\n",
    " 'Герасимов',\n",
    " 'Пономарёв',\n",
    " 'Григорьев',\n",
    " 'Лазарев',\n",
    " 'Медведев',\n",
    " 'Ершов',\n",
    " 'Никитин',\n",
    " 'Соболев',\n",
    " 'Рябов',\n",
    " 'Поляков',\n",
    " 'Цветков',\n",
    " 'Данилов',\n",
    " 'Жуков',\n",
    " 'Фролов',\n",
    " 'Журавлёв',\n",
    " 'Николаев',\n",
    " 'Крылов',\n",
    " 'Максимов',\n",
    " 'Сидоров',\n",
    " 'Осипов',\n",
    " 'Белоусов',\n",
    " 'Федотов',\n",
    " 'Дорофеев',\n",
    " 'Егоров',\n",
    " 'Матвеев',\n",
    " 'Бобров',\n",
    " 'Дмитриев',\n",
    " 'Калинин',\n",
    " 'Анисимов',\n",
    " 'Петухов',\n",
    " 'Антонов',\n",
    " 'Тимофеев',\n",
    " 'Никифоров',\n",
    " 'Веселов',\n",
    " 'Филиппов',\n",
    " 'Марков',\n",
    " 'Большаков',\n",
    " 'Суханов',\n",
    " 'Миронов',\n",
    " 'Ширяев',\n",
    " 'Александров',\n",
    " 'Коновалов',\n",
    " 'Шестаков',\n",
    " 'Казаков',\n",
    " 'Ефимов',\n",
    " 'Денисов',\n",
    " 'Громов',\n",
    " 'Фомин',\n",
    " 'Давыдов',\n",
    " 'Мельников',\n",
    " 'Щербаков',\n",
    " 'Блинов',\n",
    " 'Колесников',\n",
    " 'Карпов',\n",
    " 'Афанасьев',\n",
    " 'Власов',\n",
    " 'Маслов',\n",
    " 'Исаков',\n",
    " 'Тихонов',\n",
    " 'Аксёнов',\n",
    " 'Гаврилов',\n",
    " 'Родионов',\n",
    " 'Котов',\n",
    " 'Горбунов',\n",
    " 'Кудряшов',\n",
    " 'Быков',\n",
    " 'Зуев',\n",
    " 'Третьяков',\n",
    " 'Савельев',\n",
    " 'Панов',\n",
    " 'Рыбаков',\n",
    " 'Суворов',\n",
    " 'Абрамов',\n",
    " 'Воронов',\n",
    " 'Мухин',\n",
    " 'Архипов',\n",
    " 'Трофимов',\n",
    " 'Мартынов',\n",
    " 'Емельянов',\n",
    " 'Горшков',\n",
    " 'Чернов',\n",
    " 'Овчинников',\n",
    " 'Селезнёв',\n",
    " 'Панфилов',\n",
    " 'Копылов',\n",
    " 'Михеев',\n",
    " 'Галкин',\n",
    " 'Назаров',\n",
    " 'Лобанов',\n",
    " 'Лукин',\n",
    " 'Беляков',\n",
    " 'Потапов',\n",
    " 'Некрасов',\n",
    " 'Хохлов',\n",
    " 'Жданов',\n",
    " 'Наумов',\n",
    " 'Шилов',\n",
    " 'Воронцов',\n",
    " 'Ермаков',\n",
    " 'Дроздов',\n",
    " 'Игнатьев',\n",
    " 'Савин',\n",
    " 'Логинов',\n",
    " 'Сафонов',\n",
    " 'Капустин',\n",
    " 'Кириллов',\n",
    " 'Моисеев',\n",
    " 'Елисеев',\n",
    " 'Кошелев',\n",
    " 'Костин',\n",
    " 'Горбачёв',\n",
    " 'Орехов',\n",
    " 'Ефремов',\n",
    " 'Исаев',\n",
    " 'Евдокимов',\n",
    " 'Калашников',\n",
    " 'Кабанов',\n",
    " 'Носков',\n",
    " 'Юдин',\n",
    " 'Кулагин',\n",
    " 'Лапин',\n",
    " 'Прохоров',\n",
    " 'Нестеров',\n",
    " 'Харитонов',\n",
    " 'Агафонов',\n",
    " 'Муравьёв',\n",
    " 'Ларионов',\n",
    " 'Федосеев',\n",
    " 'Зимин',\n",
    " 'Пахомов',\n",
    " 'Шубин',\n",
    " 'Игнатов',\n",
    " 'Филатов',\n",
    " 'Крюков',\n",
    " 'Рогов',\n",
    " 'Кулаков',\n",
    " 'Терентьев',\n",
    " 'Молчанов',\n",
    " 'Владимиров',\n",
    " 'Артемьев',\n",
    " 'Гурьев',\n",
    " 'Зиновьев',\n",
    " 'Гришин',\n",
    " 'Кононов',\n",
    " 'Дементьев',\n",
    " 'Ситников',\n",
    " 'Симонов',\n",
    " 'Мишин',\n",
    " 'Фадеев',\n",
    " 'Комиссаров',\n",
    " 'Мамонтов',\n",
    " 'Носов',\n",
    " 'Гуляев',\n",
    " 'Шаров',\n",
    " 'Устинов',\n",
    " 'Вишняков',\n",
    " 'Евсеев',\n",
    " 'Лаврентьев',\n",
    " 'Брагин',\n",
    " 'Константинов',\n",
    " 'Корнилов',\n",
    " 'Авдеев',\n",
    " 'Зыков',\n",
    " 'Бирюков',\n",
    " 'Шарапов',\n",
    " 'Никонов',\n",
    " 'Щукин',\n",
    " 'Дьячков',\n",
    " 'Одинцов',\n",
    " 'Сазонов',\n",
    " 'Якушев',\n",
    " 'Красильников',\n",
    " 'Гордеев',\n",
    " 'Самойлов',\n",
    " 'Князев',\n",
    " 'Беспалов',\n",
    " 'Уваров',\n",
    " 'Шашков',\n",
    " 'Бобылёв',\n",
    " 'Доронин',\n",
    " 'Белозёров',\n",
    " 'Рожков',\n",
    " 'Самсонов',\n",
    " 'Мясников',\n",
    " 'Лихачёв',\n",
    " 'Буров',\n",
    " 'Сысоев',\n",
    " 'Фомичёв',\n",
    " 'Русаков',\n",
    " 'Стрелков',\n",
    " 'Гущин',\n",
    " 'Тетерин',\n",
    " 'Колобов',\n",
    " 'Субботин',\n",
    " 'Фокин',\n",
    " 'Блохин',\n",
    " 'Селиверстов',\n",
    " 'Пестов',\n",
    " 'Кондратьев',\n",
    " 'Силин',\n",
    " 'Меркушев',\n",
    " 'Лыткин',\n",
    " 'Туров']))"
   ]
  },
  {
   "cell_type": "code",
   "execution_count": 10,
   "metadata": {},
   "outputs": [],
   "source": [
    "male_fathername_list= [x + 'ович' for x in ['Алексей',\n",
    " 'Антон',\n",
    " 'Артем',\n",
    " 'Борис',\n",
    " 'Денис',\n",
    " 'Константин',\n",
    " 'Леонид',\n",
    " 'Вячеслав',\n",
    " 'Святослав',\n",
    " 'Ярослав']]+['Сергеевич','Юрьевич','Андреевич']"
   ]
  },
  {
   "cell_type": "code",
   "execution_count": 11,
   "metadata": {},
   "outputs": [],
   "source": [
    "female_fathername_list= [x + 'овна' for x in ['Алексей',\n",
    " 'Антон',\n",
    " 'Артем',\n",
    " 'Борис',\n",
    " 'Денис',\n",
    " 'Константин',\n",
    " 'Вячеслав',\n",
    " 'Леонид',\n",
    " 'Святослав',\n",
    " 'Ярослав']]+['Сергеевна','Юрьевна','Андреевна']"
   ]
  },
  {
   "cell_type": "code",
   "execution_count": 12,
   "metadata": {},
   "outputs": [],
   "source": [
    "female_name_list = '''Елена\n",
    "Анастасия\n",
    "Мария\n",
    "Марина\n",
    "Екатерина\n",
    "Анна\n",
    "Серафима\n",
    "Любовь\n",
    "София\n",
    "Софья\n",
    "Майя\n",
    "Юлия\n",
    "Карина'''.split('\\n')"
   ]
  },
  {
   "cell_type": "code",
   "execution_count": 13,
   "metadata": {},
   "outputs": [],
   "source": [
    "education_levels = '''Среднее\n",
    "Высшее\n",
    "Среднее специальное\n",
    "Неоконченное высшее\n",
    "Бакалавр\n",
    "Магистр\n",
    "Кандидат наук\n",
    "Доктор наук'''.split('\\n')"
   ]
  },
  {
   "cell_type": "code",
   "execution_count": 14,
   "metadata": {},
   "outputs": [],
   "source": [
    "data = []\n",
    "for i in range(963811):\n",
    "    if random.randint(1, 2) == 1:\n",
    "        name = male_name_list[random.randint(0, len(male_name_list)-1)]\n",
    "        sex = 'Male'\n",
    "        age = [round(random.normalvariate(23, 4.5))\n",
    "                               ,round(random.normalvariate(40, 6.5))][np.random.binomial(1, 0.5)]\n",
    "        surname = surname_list[random.randint(0, len(surname_list)-1)]\n",
    "        fathername = male_fathername_list[random.randint(0, len(male_fathername_list)-1)]\n",
    "        is_married = random.randint(0, 1)\n",
    "        has_children = random.randint(0, 1)\n",
    "        education = round(random.lognormvariate(0,0.5))\n",
    "        if education > len(education_levels) - 1:\n",
    "            education = len(education_levels) - 1\n",
    "        education = education_levels[education]\n",
    "        data += [[surname,name, fathername, sex, age, is_married, has_children, education]]\n",
    "    else:\n",
    "        name = female_name_list[random.randint(0, len(female_name_list)-1)]\n",
    "        sex = 'Female'\n",
    "        age = [round(random.normalvariate(23, 4.5))\n",
    "                               ,round(random.normalvariate(40, 6.5))][np.random.binomial(1, 0.5)]\n",
    "        surname = surname_list[random.randint(0, len(surname_list)-1)] + 'а'\n",
    "        fathername = female_fathername_list[random.randint(0, len(female_fathername_list)-1)]\n",
    "        is_married = random.randint(0, 1)\n",
    "        has_children = random.randint(0, 1)\n",
    "        education = round(random.lognormvariate(0,0.5))\n",
    "        if education > len(education_levels) - 1:\n",
    "            education = len(education_levels) - 1\n",
    "        education = education_levels[education]\n",
    "        data += [[surname,name, fathername, sex, age, is_married, has_children, education]]\n",
    "\n",
    "df = pd.DataFrame(data, columns =['surname','name', 'fathername',\n",
    "                                  'sex', 'age', \n",
    "                                 'is_married', 'has_children', 'education'])"
   ]
  },
  {
   "cell_type": "code",
   "execution_count": 15,
   "metadata": {
    "scrolled": false
   },
   "outputs": [
    {
     "data": {
      "text/plain": [
       "<AxesSubplot:xlabel='education'>"
      ]
     },
     "execution_count": 15,
     "metadata": {},
     "output_type": "execute_result"
    },
    {
     "data": {
      "image/png": "[encoded data removed]",
      "text/plain": [
       "<Figure size 1080x720 with 1 Axes>"
      ]
     },
     "metadata": {
      "needs_background": "light"
     },
     "output_type": "display_data"
    }
   ],
   "source": [
    "df.groupby('education').size().plot(figsize=(15,10), kind='bar')"
   ]
  },
  {
   "cell_type": "code",
   "execution_count": 16,
   "metadata": {},
   "outputs": [],
   "source": [
    "df.loc[df.age > 70, 'age'] = df.loc[df.age > 70, 'age'] - 20\n",
    "while df.loc[df.age<18, 'age'].shape[0] !=0:\n",
    "    df.loc[df.age<18, 'age'] = df.loc[df.age<18, 'age'].apply(lambda x: [round(random.normalvariate(23, 4.5))\n",
    "                                   ,round(random.normalvariate(40, 6.5))][np.random.binomial(1, 0.5)])"
   ]
  },
  {
   "cell_type": "code",
   "execution_count": 17,
   "metadata": {},
   "outputs": [
    {
     "data": {
      "text/plain": [
       "<AxesSubplot:xlabel='age'>"
      ]
     },
     "execution_count": 17,
     "metadata": {},
     "output_type": "execute_result"
    },
    {
     "data": {
      "image/png": "[encoded data removed]",
      "text/plain": [
       "<Figure size 432x288 with 1 Axes>"
      ]
     },
     "metadata": {
      "needs_background": "light"
     },
     "output_type": "display_data"
    }
   ],
   "source": [
    "df.groupby('age').size().plot()"
   ]
  },
  {
   "cell_type": "code",
   "execution_count": 18,
   "metadata": {},
   "outputs": [],
   "source": [
    "df = df.reset_index().rename(columns={'index':'app_id'})"
   ]
  },
  {
   "cell_type": "code",
   "execution_count": 19,
   "metadata": {},
   "outputs": [],
   "source": [
    "df['reg'] = [[round(random.normalvariate(41, 4))\n",
    "                               ,round(random.normalvariate(58, 6.5))][np.random.binomial(1, 0.45)]\n",
    "                           for x in range(963811)]\n",
    "\n",
    "df.loc[df.reg<0, 'reg'] = df.loc[df.reg<0, 'reg'] * -1\n",
    "\n",
    "df.loc[df.reg>len(region_list)-1, 'reg'] = df.loc[df.reg>len(region_list)-1, 'reg'] % len(region_list)-1"
   ]
  },
  {
   "cell_type": "code",
   "execution_count": 20,
   "metadata": {
    "scrolled": false
   },
   "outputs": [
    {
     "data": {
      "text/plain": [
       "<AxesSubplot:xlabel='reg'>"
      ]
     },
     "execution_count": 20,
     "metadata": {},
     "output_type": "execute_result"
    },
    {
     "data": {
      "image/png": "[encoded data removed]",
      "text/plain": [
       "<Figure size 1440x1440 with 1 Axes>"
      ]
     },
     "metadata": {
      "needs_background": "light"
     },
     "output_type": "display_data"
    }
   ],
   "source": [
    "df.groupby('reg').size().plot(kind='line', figsize=(20,20))"
   ]
  },
  {
   "cell_type": "code",
   "execution_count": 21,
   "metadata": {},
   "outputs": [],
   "source": [
    "df['region'] = df.reg.apply(lambda x: region_list[x][0])\n",
    "df['city'] = df.reg.apply(lambda x: region_list[x][1])\n",
    "\n",
    "df = df.drop('reg',1)"
   ]
  },
  {
   "cell_type": "code",
   "execution_count": 22,
   "metadata": {},
   "outputs": [
    {
     "data": {
      "text/plain": [
       "app_id           int64\n",
       "surname         object\n",
       "name            object\n",
       "fathername      object\n",
       "sex             object\n",
       "age              int64\n",
       "is_married       int64\n",
       "has_children     int64\n",
       "education       object\n",
       "region          object\n",
       "city            object\n",
       "dtype: object"
      ]
     },
     "execution_count": 22,
     "metadata": {},
     "output_type": "execute_result"
    }
   ],
   "source": [
    "df.dtypes"
   ]
  },
  {
   "cell_type": "markdown",
   "metadata": {},
   "source": [
    "# Inspect missing regions"
   ]
  },
  {
   "cell_type": "code",
   "execution_count": 23,
   "metadata": {},
   "outputs": [],
   "source": [
    "# import geojson\n",
    "\n",
    "# with open('./russia.geojson.txt', encoding='utf8') as f:\n",
    "#     gj = geojson.load(f)\n",
    "\n",
    "# json_reg_list= [gj['features'][x]['properties']['name'] for x in range(len(gj['features'])-1)]\n",
    "\n",
    "# intersection = [x for x in json_reg_list if x in [y[0] for y in region_list]]\n",
    "\n",
    "#  [x for x in json_reg_list if x not in [y[0] for y in region_list]]\n",
    "\n",
    "# [y[0] for y in region_list if y[0] not in intersection]\n",
    "\n",
    "# set([x for x in df.region.to_list() if x not in json_reg_list])"
   ]
  },
  {
   "cell_type": "markdown",
   "metadata": {},
   "source": [
    "# Load to DWH"
   ]
  },
  {
   "cell_type": "code",
   "execution_count": 35,
   "metadata": {},
   "outputs": [],
   "source": [
    "conn = psycopg2.connect(dbname='kr_bruklin', user='postgres', \n",
    "                        password='admin', host='localhost', port=5432)\n",
    "\n",
    "with conn.cursor() as curs:\n",
    "    curs.execute('''\n",
    "drop table if exists raw_data.client_data cascade;\n",
    "create table raw_data.client_data\n",
    "    (app_id int,\n",
    "    surname varchar(100),\n",
    "    name varchar(100),\n",
    "    fathername varchar(100),\n",
    "    sex varchar(10),\n",
    "    age int,\n",
    "    region varchar(100),\n",
    "    city varchar(100),\n",
    "    is_married bit,\n",
    "    has_children bit,\n",
    "    education varchar(50),\n",
    "    loading_dt timestamp default now());''')\n",
    "conn.commit()\n",
    "conn.close()"
   ]
  },
  {
   "cell_type": "code",
   "execution_count": 32,
   "metadata": {},
   "outputs": [],
   "source": [
    "df = df[['app_id', 'surname', 'name', 'fathername', 'sex', 'age', 'region', 'city', 'is_married',\n",
    "       'has_children', 'education']]"
   ]
  },
  {
   "cell_type": "code",
   "execution_count": 33,
   "metadata": {
    "scrolled": true
   },
   "outputs": [
    {
     "data": {
      "text/plain": [
       "Index(['app_id', 'surname', 'name', 'fathername', 'sex', 'age', 'region',\n",
       "       'city', 'is_married', 'has_children', 'education'],\n",
       "      dtype='object')"
      ]
     },
     "execution_count": 33,
     "metadata": {},
     "output_type": "execute_result"
    }
   ],
   "source": [
    "df.columns"
   ]
  },
  {
   "cell_type": "code",
   "execution_count": 36,
   "metadata": {},
   "outputs": [
    {
     "data": {
      "application/vnd.jupyter.widget-view+json": {
       "model_id": "b3b654a1cac1434aa4b38affa3df4eb1",
       "version_major": 2,
       "version_minor": 0
      },
      "text/plain": [
       "HBox(children=(HTML(value=''), FloatProgress(value=0.0, max=964.0), HTML(value='')))"
      ]
     },
     "metadata": {},
     "output_type": "display_data"
    },
    {
     "name": "stdout",
     "output_type": "stream",
     "text": [
      "\n"
     ]
    }
   ],
   "source": [
    "for i in tqdm(range(1, df.shape[0] // 1000 +2)):\n",
    "    tmp = df.iloc[(i-1)*1000:i*1000].copy()\n",
    "    if tmp.shape[0] > 0:\n",
    "        for col in ['surname', 'name', 'fathername', 'sex', 'region', 'city','education','is_married', 'has_children']:\n",
    "            tmp[col] = tmp[col].apply(lambda x: f\"'{x}'\")\n",
    "        tmp['result'] = tmp.apply(lambda x: '('+','.join([str(x[c]) for c in tmp.columns])+',DEFAULT)', axis=1)\n",
    "        values = ','.join(tmp.result.to_list())\n",
    "        conn = psycopg2.connect(dbname='kr_bruklin', user='postgres', \n",
    "                        password='admin', host='localhost', port=5432)\n",
    "        with conn.cursor() as curs:\n",
    "            curs.execute(f'''insert into raw_data.client_data values\n",
    "                            {values}''')\n",
    "            curs.execute(f\"insert into raw_data.log values ('insert', DEFAULT, 'raw_data.client_data', '', {tmp.shape[0]})\")\n",
    "        conn.commit()    \n",
    "        conn.close()"
   ]
  }
 ],
 "metadata": {
  "kernelspec": {
   "display_name": "Python 3",
   "language": "python",
   "name": "python3"
  },
  "language_info": {
   "codemirror_mode": {
    "name": "ipython",
    "version": 3
   },
   "file_extension": ".py",
   "mimetype": "text/x-python",
   "name": "python",
   "nbconvert_exporter": "python",
   "pygments_lexer": "ipython3",
   "version": "3.8.5"
  }
 },
 "nbformat": 4,
 "nbformat_minor": 4
}
